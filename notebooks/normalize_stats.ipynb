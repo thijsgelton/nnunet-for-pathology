{
 "cells": [
  {
   "cell_type": "code",
   "execution_count": 1,
   "id": "54138c22-6f06-4c2e-9c8d-c8c539522dd1",
   "metadata": {},
   "outputs": [
    {
     "name": "stdout",
     "output_type": "stream",
     "text": [
      "Defaulting to user installation because normal site-packages is not writeable\n",
      "Obtaining file:///data/pathology/users/thijs/nnunet-for-pathology\n",
      "  Preparing metadata (setup.py) ... \u001b[?25ldone\n",
      "\u001b[?25hInstalling collected packages: nnunet-pathology\n",
      "  Attempting uninstall: nnunet-pathology\n",
      "    Found existing installation: nnunet-pathology 0.0.0\n",
      "    Uninstalling nnunet-pathology-0.0.0:\n",
      "      Successfully uninstalled nnunet-pathology-0.0.0\n",
      "  Running setup.py develop for nnunet-pathology\n",
      "Successfully installed nnunet-pathology-0.0.0\n",
      "\u001b[33mWARNING: There was an error checking the latest version of pip.\u001b[0m\u001b[33m\n",
      "\u001b[0m"
     ]
    }
   ],
   "source": [
    "!pip3 install -e .."
   ]
  },
  {
   "cell_type": "code",
   "execution_count": 3,
   "id": "ccfa96cc-d219-4ed4-8b61-086fc61363d4",
   "metadata": {},
   "outputs": [
    {
     "name": "stdout",
     "output_type": "stream",
     "text": [
      "Defaulting to user installation because normal site-packages is not writeable\n",
      "Collecting git+https://github.com/DIAGNijmegen/pathology-whole-slide-data@8a0e97b22dcf503cc8325546d5812fb4e9c3df50\n",
      "  Cloning https://github.com/DIAGNijmegen/pathology-whole-slide-data (to revision 8a0e97b22dcf503cc8325546d5812fb4e9c3df50) to /tmp/pip-req-build-3gh_269w\n",
      "  Running command git clone --filter=blob:none --quiet https://github.com/DIAGNijmegen/pathology-whole-slide-data /tmp/pip-req-build-3gh_269w\n",
      "  Running command git rev-parse -q --verify 'sha^8a0e97b22dcf503cc8325546d5812fb4e9c3df50'\n",
      "  Running command git fetch -q https://github.com/DIAGNijmegen/pathology-whole-slide-data 8a0e97b22dcf503cc8325546d5812fb4e9c3df50\n",
      "  Running command git checkout -q 8a0e97b22dcf503cc8325546d5812fb4e9c3df50\n",
      "  Resolved https://github.com/DIAGNijmegen/pathology-whole-slide-data to commit 8a0e97b22dcf503cc8325546d5812fb4e9c3df50\n",
      "  Preparing metadata (setup.py) ... \u001b[?25ldone\n",
      "\u001b[?25hRequirement already satisfied: concurrentbuffer>=0.0.7 in /usr/local/lib/python3.9/site-packages (from wholeslidedata==0.0.13) (0.0.7)\n",
      "Requirement already satisfied: creationism>=0.0.5 in /usr/local/lib/python3.9/site-packages (from wholeslidedata==0.0.13) (0.0.5)\n",
      "Requirement already satisfied: numpy>=1.20.2 in /home/user/.local/lib/python3.9/site-packages (from wholeslidedata==0.0.13) (1.22.4)\n",
      "Requirement already satisfied: opencv-python-headless>=4.4.0 in /usr/local/lib/python3.9/site-packages (from wholeslidedata==0.0.13) (4.5.5.62)\n",
      "Requirement already satisfied: scipy>=1.5.2 in /usr/local/lib/python3.9/site-packages (from wholeslidedata==0.0.13) (1.8.0)\n",
      "Requirement already satisfied: scikit-image>=0.17.2 in /home/user/.local/lib/python3.9/site-packages (from wholeslidedata==0.0.13) (0.19.2)\n",
      "Requirement already satisfied: shapely>=1.7.1 in /usr/local/lib/python3.9/site-packages (from wholeslidedata==0.0.13) (1.8.1)\n",
      "Requirement already satisfied: openslide-python>=1.1.1 in /usr/local/lib/python3.9/site-packages (from wholeslidedata==0.0.13) (1.1.2)\n",
      "Requirement already satisfied: PyYAML>=5.4.1 in /home/user/.local/lib/python3.9/site-packages (from wholeslidedata==0.0.13) (6.0)\n",
      "Requirement already satisfied: jsonschema>=4.4.0 in /usr/local/lib/python3.9/site-packages (from wholeslidedata==0.0.13) (4.4.0)\n",
      "Requirement already satisfied: attrs>=17.4.0 in /usr/local/lib/python3.9/site-packages (from jsonschema>=4.4.0->wholeslidedata==0.0.13) (21.4.0)\n",
      "Requirement already satisfied: pyrsistent!=0.17.0,!=0.17.1,!=0.17.2,>=0.14.0 in /usr/local/lib/python3.9/site-packages (from jsonschema>=4.4.0->wholeslidedata==0.0.13) (0.18.1)\n",
      "Requirement already satisfied: Pillow in /usr/local/lib/python3.9/site-packages (from openslide-python>=1.1.1->wholeslidedata==0.0.13) (9.0.1)\n",
      "Requirement already satisfied: networkx>=2.2 in /usr/local/lib/python3.9/site-packages (from scikit-image>=0.17.2->wholeslidedata==0.0.13) (2.6.3)\n",
      "Requirement already satisfied: imageio>=2.4.1 in /usr/local/lib/python3.9/site-packages (from scikit-image>=0.17.2->wholeslidedata==0.0.13) (2.16.0)\n",
      "Requirement already satisfied: packaging>=20.0 in /usr/local/lib/python3.9/site-packages (from scikit-image>=0.17.2->wholeslidedata==0.0.13) (21.3)\n",
      "Requirement already satisfied: tifffile>=2019.7.26 in /usr/local/lib/python3.9/site-packages (from scikit-image>=0.17.2->wholeslidedata==0.0.13) (2022.2.9)\n",
      "Requirement already satisfied: PyWavelets>=1.1.1 in /usr/local/lib/python3.9/site-packages (from scikit-image>=0.17.2->wholeslidedata==0.0.13) (1.2.0)\n",
      "Requirement already satisfied: pyparsing!=3.0.5,>=2.0.2 in /usr/local/lib/python3.9/site-packages (from packaging>=20.0->scikit-image>=0.17.2->wholeslidedata==0.0.13) (2.4.7)\n",
      "Building wheels for collected packages: wholeslidedata\n",
      "  Building wheel for wholeslidedata (setup.py) ... \u001b[?25ldone\n",
      "\u001b[?25h  Created wheel for wholeslidedata: filename=wholeslidedata-0.0.13-py3-none-any.whl size=79157 sha256=2462b767db0cd4ac80247f5ee5abb7e373375216f00b775f9db2ab4b929ec693\n",
      "  Stored in directory: /home/user/.cache/pip/wheels/ea/b5/ac/354a6581bff3a046157671b1e31ddb0c658712dfd5deb8570b\n",
      "Successfully built wholeslidedata\n",
      "Installing collected packages: wholeslidedata\n",
      "Successfully installed wholeslidedata-0.0.13\n",
      "\u001b[33mWARNING: There was an error checking the latest version of pip.\u001b[0m\u001b[33m\n",
      "\u001b[0m"
     ]
    }
   ],
   "source": [
    "!pip3 install git+https://github.com/DIAGNijmegen/pathology-whole-slide-data@8a0e97b22dcf503cc8325546d5812fb4e9c3df50"
   ]
  },
  {
   "cell_type": "code",
   "execution_count": 1,
   "id": "d33a1659-e2e4-4ddf-b00c-497147e0d0f3",
   "metadata": {},
   "outputs": [],
   "source": [
    "from nnunet_pathology.datamodules.wsi_datamodule import WholeSlideDataModule\n",
    "import numpy as np\n",
    "from tqdm.notebook import tqdm"
   ]
  },
  {
   "cell_type": "code",
   "execution_count": 15,
   "id": "1376bbcb-6f94-4ac0-806f-02c1dbe73afa",
   "metadata": {},
   "outputs": [],
   "source": [
    "def get_mean_and_std(dataloader):\n",
    "    channels_sum, channels_squared_sum, num_batches = 0, 0, 0\n",
    "    for data, _ in tqdm(dataloader):\n",
    "        # Mean over batch, height and width, but not over the channels\n",
    "        channels_sum += data.mean(axis=(0,1,2))\n",
    "        channels_squared_sum += (data**2).mean(axis=(0,1,2))\n",
    "        num_batches += 1\n",
    "    \n",
    "    mean = channels_sum / num_batches\n",
    "\n",
    "    # std = sqrt(E[X^2] - (E[X])^2)\n",
    "    std = (channels_squared_sum / num_batches - mean ** 2) ** 0.5\n",
    "\n",
    "    return mean, std"
   ]
  },
  {
   "cell_type": "code",
   "execution_count": 16,
   "id": "d05b3346-e2a4-465a-811a-5f2d2d294ba0",
   "metadata": {},
   "outputs": [
    {
     "data": {
      "application/vnd.jupyter.widget-view+json": {
       "model_id": "2f6f4b21d3bd4a29b90a1e2cdbd65142",
       "version_major": 2,
       "version_minor": 0
      },
      "text/plain": [
       "  0%|          | 0/1000 [00:00<?, ?it/s]"
      ]
     },
     "metadata": {},
     "output_type": "display_data"
    },
    {
     "name": "stdout",
     "output_type": "stream",
     "text": [
      "(tensor([194.6097, 156.8905, 179.4379]), tensor([55.3238, 64.9420, 54.2014]))\n"
     ]
    }
   ],
   "source": [
    "n_samples = 1000\n",
    "\n",
    "datamodule = WholeSlideDataModule(\n",
    "    user_train_config = \"/data/pathology/projects/pathology-endoaid/nnunet-for-pathology/train_config.yml\",\n",
    "    user_val_config = \"/data/pathology/projects/pathology-endoaid/nnunet-for-pathology/valid_config.yml\",\n",
    "    context = \"fork\",\n",
    "    steps_per_epoch = n_samples,\n",
    "    num_classes = 6,\n",
    "    num_workers = 6\n",
    ")\n",
    "\n",
    "datamodule.setup()\n",
    "\n",
    "dataloader = iter(datamodule.train_dataloader())\n",
    "\n",
    "print(get_mean_and_std(dataloader))"
   ]
  }
 ],
 "metadata": {
  "kernelspec": {
   "display_name": "Python 3 (ipykernel)",
   "language": "python",
   "name": "python3"
  },
  "language_info": {
   "codemirror_mode": {
    "name": "ipython",
    "version": 3
   },
   "file_extension": ".py",
   "mimetype": "text/x-python",
   "name": "python",
   "nbconvert_exporter": "python",
   "pygments_lexer": "ipython3",
   "version": "3.9.10"
  }
 },
 "nbformat": 4,
 "nbformat_minor": 5
}
